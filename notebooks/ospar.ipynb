{
 "cells": [
  {
   "cell_type": "code",
   "execution_count": null,
   "metadata": {},
   "outputs": [],
   "source": [
    "import duckdb\n",
    "import geopandas as gpd\n",
    "import pandas as pd\n",
    "from h3pandas.util.shapely import polyfill\n",
    "import pyarrow.dataset as ds\n",
    "from lonboard import viz, Map, SolidPolygonLayer\n",
    "from lonboard.colormap import apply_continuous_cmap\n",
    "from palettable.colorbrewer.diverging import BrBG_10\n",
    "from palettable.cartocolors.diverging import Geyser_3, TealRose_7\n",
    "import numpy as np"
   ]
  },
  {
   "cell_type": "code",
   "execution_count": null,
   "metadata": {},
   "outputs": [],
   "source": [
    "con = duckdb.connect()\n",
    "\n",
    "dataset = ds.dataset(\"../h3_4_2022_deep/\", format=\"parquet\")\n",
    "con.register(\"dataset\", dataset)\n",
    "\n",
    "df = con.execute(\"\"\"\n",
    "\tselect cell as h3, AphiaID\n",
    "    from dataset\n",
    "\"\"\").fetchdf()\n",
    "df"
   ]
  },
  {
   "cell_type": "code",
   "execution_count": null,
   "metadata": {},
   "outputs": [],
   "source": [
    "con = duckdb.connect()\n",
    "con.register(\"df\", df)\n",
    "\n",
    "result = con.execute(\"\"\"\n",
    "\tselect\n",
    "        h3, count(distinct(AphiaID)) as species\n",
    "    from df\n",
    "    group by h3\n",
    "\"\"\").fetchdf()\n",
    "result"
   ]
  },
  {
   "cell_type": "code",
   "execution_count": null,
   "metadata": {},
   "outputs": [],
   "source": [
    "result_poly = result.set_index(\"h3\").h3.h3_to_geo_boundary()\n",
    "offending = list(result_poly.cx[179:180, -90:90].index) + list(result_poly.cx[-180:-179, -90:90].index)\n",
    "result_poly = result_poly.loc[result_poly.index.difference(offending), :]"
   ]
  },
  {
   "cell_type": "code",
   "execution_count": null,
   "metadata": {},
   "outputs": [],
   "source": [
    "normalized_species = np.log(result_poly[\"species\"]) / np.log(result_poly[\"species\"]).max()\n",
    "normalized_species\n",
    "color = apply_continuous_cmap(normalized_species, TealRose_7, alpha=0.7)\n",
    "color"
   ]
  },
  {
   "cell_type": "code",
   "execution_count": null,
   "metadata": {},
   "outputs": [],
   "source": [
    "polygon_layer = SolidPolygonLayer.from_geopandas(\n",
    "    result_poly,\n",
    "    get_fill_color=color,\n",
    "    opacity=0.9\n",
    ")\n",
    "map = Map([polygon_layer])\n",
    "map"
   ]
  },
  {
   "cell_type": "code",
   "execution_count": null,
   "metadata": {},
   "outputs": [],
   "source": [
    "with open(\"/Users/pieter/Desktop/indicator.html\", \"w\") as f:\n",
    "    f.write(map.as_html().data)"
   ]
  }
 ],
 "metadata": {
  "kernelspec": {
   "display_name": "Python 3",
   "language": "python",
   "name": "python3"
  },
  "language_info": {
   "codemirror_mode": {
    "name": "ipython",
    "version": 3
   },
   "file_extension": ".py",
   "mimetype": "text/x-python",
   "name": "python",
   "nbconvert_exporter": "python",
   "pygments_lexer": "ipython3",
   "version": "3.12.0"
  }
 },
 "nbformat": 4,
 "nbformat_minor": 2
}

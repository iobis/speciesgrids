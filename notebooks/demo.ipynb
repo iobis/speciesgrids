{
 "cells": [
  {
   "cell_type": "code",
   "execution_count": null,
   "metadata": {},
   "outputs": [],
   "source": [
    "import geopandas\n",
    "\n",
    "filters = [(\"AphiaID\", \"==\", 141433)]\n",
    "\n",
    "gdf = geopandas.read_parquet(\"../h3_7/\", filters=filters)\n",
    "gdf.explore(column=\"records\", cmap=\"viridis\", legend=True, tiles=\"CartoDB positron\")"
   ]
  }
 ],
 "metadata": {
  "kernelspec": {
   "display_name": "Python 3",
   "language": "python",
   "name": "python3"
  },
  "language_info": {
   "codemirror_mode": {
    "name": "ipython",
    "version": 3
   },
   "file_extension": ".py",
   "mimetype": "text/x-python",
   "name": "python",
   "nbconvert_exporter": "python",
   "pygments_lexer": "ipython3",
   "version": "3.12.0"
  }
 },
 "nbformat": 4,
 "nbformat_minor": 2
}

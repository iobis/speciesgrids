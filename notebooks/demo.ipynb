{
 "cells": [
  {
   "cell_type": "code",
   "execution_count": null,
   "metadata": {},
   "outputs": [],
   "source": [
    "import geopandas\n",
    "import h3pandas  # noqa: F401\n",
    "import lonboard\n",
    "\n",
    "# filters = [(\"AphiaID\", \"==\", 126436)]\n",
    "filters = [(\"genus\", \"==\", \"Abra\")]\n",
    "\n",
    "gdf = geopandas.read_parquet(\"../h3_7/\", filters=filters)[[\"cell\", \"records\", \"geometry\", \"species\"]]\n",
    "gdf"
   ]
  },
  {
   "cell_type": "code",
   "execution_count": null,
   "metadata": {},
   "outputs": [],
   "source": [
    "import seaborn as sns\n",
    "\n",
    "unique_species = gdf[\"species\"].unique()\n",
    "palette = sns.color_palette(\"Spectral\", len(unique_species))\n",
    "rgb_colors = [[int(r*255), int(g*255), int(b*255)] for r, g, b in palette]\n",
    "color_map = dict(zip(unique_species, rgb_colors))\n",
    "colors = lonboard.colormap.apply_categorical_cmap(gdf[\"species\"], color_map)\n",
    "\n",
    "point_layer = lonboard.ScatterplotLayer.from_geopandas(gdf)\n",
    "point_layer.get_radius = 10000\n",
    "point_layer.radius_max_pixels = 2\n",
    "point_layer.get_fill_color = colors\n",
    "m = lonboard.Map([point_layer])\n",
    "m"
   ]
  },
  {
   "cell_type": "code",
   "execution_count": null,
   "metadata": {},
   "outputs": [],
   "source": [
    "# gdf.set_index(\"cell\", inplace=True)\n",
    "# gdf = gdf.h3.h3_to_geo_boundary()\n",
    "# viz(gdf)"
   ]
  }
 ],
 "metadata": {
  "kernelspec": {
   "display_name": "3.12.0",
   "language": "python",
   "name": "python3"
  },
  "language_info": {
   "codemirror_mode": {
    "name": "ipython",
    "version": 3
   },
   "file_extension": ".py",
   "mimetype": "text/x-python",
   "name": "python",
   "nbconvert_exporter": "python",
   "pygments_lexer": "ipython3",
   "version": "3.12.0"
  }
 },
 "nbformat": 4,
 "nbformat_minor": 2
}

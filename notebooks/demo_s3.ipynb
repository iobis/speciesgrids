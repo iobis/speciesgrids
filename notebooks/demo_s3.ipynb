{
 "cells": [
  {
   "cell_type": "code",
   "execution_count": null,
   "metadata": {},
   "outputs": [],
   "source": [
    "import geopandas\n",
    "import lonboard\n",
    "import seaborn as sns\n",
    "\n",
    "filters = [(\"genus\", \"==\", \"Abra\")]\n",
    "gdf = geopandas.read_parquet(\"s3://obis-products/speciesgrids/h3_7/\", filters=filters)[[\"cell\", \"records\", \"geometry\", \"species\"]]"
   ]
  },
  {
   "cell_type": "code",
   "execution_count": null,
   "metadata": {},
   "outputs": [],
   "source": [
    "def generate_colors(unique_species):\n",
    "    palette = sns.color_palette(\"flare\", len(unique_species))\n",
    "    rgb_colors = [[int(r*255), int(g*255), int(b*255)] for r, g, b in palette]\n",
    "    color_map = dict(zip(unique_species, rgb_colors))\n",
    "    colors = lonboard.colormap.apply_categorical_cmap(gdf[\"species\"], color_map)\n",
    "    return colors\n",
    "\n",
    "point_layer = lonboard.ScatterplotLayer.from_geopandas(gdf)\n",
    "point_layer.get_radius = 10000\n",
    "point_layer.radius_max_pixels = 2\n",
    "point_layer.get_fill_color = generate_colors(gdf[\"species\"].unique())\n",
    "lonboard.Map([point_layer])"
   ]
  }
 ],
 "metadata": {
  "kernelspec": {
   "display_name": "3.12.0",
   "language": "python",
   "name": "python3"
  },
  "language_info": {
   "codemirror_mode": {
    "name": "ipython",
    "version": 3
   },
   "file_extension": ".py",
   "mimetype": "text/x-python",
   "name": "python",
   "nbconvert_exporter": "python",
   "pygments_lexer": "ipython3",
   "version": "3.12.0"
  }
 },
 "nbformat": 4,
 "nbformat_minor": 2
}

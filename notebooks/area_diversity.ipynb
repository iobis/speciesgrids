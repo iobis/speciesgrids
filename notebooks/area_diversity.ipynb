{
 "cells": [
  {
   "cell_type": "code",
   "execution_count": null,
   "metadata": {},
   "outputs": [],
   "source": [
    "import duckdb\n",
    "import geopandas as gpd\n",
    "import pandas as pd\n",
    "from h3pandas.util.shapely import polyfill\n",
    "import pyarrow.dataset as ds\n"
   ]
  },
  {
   "cell_type": "code",
   "execution_count": null,
   "metadata": {},
   "outputs": [],
   "source": [
    "\n",
    "wkt = \"POLYGON ((2.540588 51.094898, 2.381287 51.272226, 3.073425 51.554874, 3.372803 51.361492, 2.540588 51.094898))\"\n",
    "gs = gpd.GeoSeries.from_wkt([wkt])\n",
    "h3 = list(polyfill(gs[0], 7, geo_json=True))\n",
    "poly = pd.DataFrame({\"h3\": h3})\n",
    "poly"
   ]
  },
  {
   "cell_type": "code",
   "execution_count": null,
   "metadata": {},
   "outputs": [],
   "source": [
    "con = duckdb.connect()\n",
    "con.register(\"poly\", poly)\n",
    "\n",
    "dataset = ds.dataset(\"../h3_7/\", format=\"parquet\")\n",
    "con.register(\"dataset\", dataset)\n",
    "\n",
    "df = con.execute(\"\"\"\n",
    "\tselect\n",
    "        species,\n",
    "        sum(records) as records,\n",
    "        min(min_year) as min_year,\n",
    "        max(max_year) as max_year,\n",
    "        max(source_obis) as source_obis,\n",
    "        max(source_gbif) as source_gbif\n",
    "    from dataset\n",
    "    inner join poly on poly.h3 = dataset.h3_07\n",
    "    group by species\n",
    "\"\"\").fetchdf()\n",
    "df"
   ]
  }
 ],
 "metadata": {
  "kernelspec": {
   "display_name": "Python 3",
   "language": "python",
   "name": "python3"
  },
  "language_info": {
   "codemirror_mode": {
    "name": "ipython",
    "version": 3
   },
   "file_extension": ".py",
   "mimetype": "text/x-python",
   "name": "python",
   "nbconvert_exporter": "python",
   "pygments_lexer": "ipython3",
   "version": "3.12.0"
  }
 },
 "nbformat": 4,
 "nbformat_minor": 2
}

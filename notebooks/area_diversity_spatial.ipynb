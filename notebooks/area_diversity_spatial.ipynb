{
 "cells": [
  {
   "cell_type": "code",
   "execution_count": null,
   "metadata": {},
   "outputs": [],
   "source": [
    "import duckdb\n",
    "import geopandas as gpd\n",
    "import pandas as pd\n",
    "from h3pandas.util.shapely import polyfill\n",
    "import pyarrow.dataset as ds"
   ]
  },
  {
   "cell_type": "code",
   "execution_count": null,
   "metadata": {},
   "outputs": [],
   "source": [
    "wkt = \"POLYGON ((-48.251953 -2.723583, -48.251953 3.951941, -37.089844 3.951941, -37.089844 -2.723583, -48.251953 -2.723583))\""
   ]
  },
  {
   "cell_type": "code",
   "execution_count": null,
   "metadata": {},
   "outputs": [],
   "source": [
    "con = duckdb.connect()\n",
    "con.sql(\"\"\"\n",
    "    INSTALL spatial;\n",
    "    LOAD spatial;\n",
    "\"\"\")\n",
    "\n",
    "dataset = ds.dataset(\"../h3_7/\", format=\"parquet\")\n",
    "con.register(\"dataset\", dataset)"
   ]
  },
  {
   "cell_type": "code",
   "execution_count": null,
   "metadata": {},
   "outputs": [],
   "source": [
    "df = con.execute(f\"\"\"\n",
    "\tselect\n",
    "        species,\n",
    "        sum(records) as records,\n",
    "        min(min_year) as min_year,\n",
    "        max(max_year) as max_year,\n",
    "        max(source_obis) as source_obis,\n",
    "        max(source_gbif) as source_gbif\n",
    "    from dataset\n",
    "    where ST_Intersects(ST_GEOMFROMWKB(geometry), ST_GeomFromText('{wkt}')) \n",
    "    group by species\n",
    "\"\"\").fetchdf()\n",
    "df"
   ]
  }
 ],
 "metadata": {
  "kernelspec": {
   "display_name": "Python 3",
   "language": "python",
   "name": "python3"
  },
  "language_info": {
   "codemirror_mode": {
    "name": "ipython",
    "version": 3
   },
   "file_extension": ".py",
   "mimetype": "text/x-python",
   "name": "python",
   "nbconvert_exporter": "python",
   "pygments_lexer": "ipython3",
   "version": "3.12.0"
  }
 },
 "nbformat": 4,
 "nbformat_minor": 2
}
